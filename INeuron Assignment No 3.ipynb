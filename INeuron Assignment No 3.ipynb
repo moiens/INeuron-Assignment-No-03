{
 "cells": [
  {
   "cell_type": "markdown",
   "id": "3a33a58d",
   "metadata": {},
   "source": [
    "# Q 1.1. Write a Python Program to implement your own myreduce() function which works exactly like Python's built-in function reduce()\n"
   ]
  },
  {
   "cell_type": "code",
   "execution_count": 13,
   "id": "53160486",
   "metadata": {},
   "outputs": [
    {
     "name": "stdout",
     "output_type": "stream",
     "text": [
      "945\n"
     ]
    }
   ],
   "source": [
    "from functools import reduce\n",
    "list = [1,3,5,7,9]\n",
    "num = reduce( (lambda x,y : x*y), list)\n",
    "print (num)"
   ]
  },
  {
   "cell_type": "code",
   "execution_count": null,
   "id": "d6b64ebf",
   "metadata": {},
   "outputs": [],
   "source": []
  },
  {
   "cell_type": "markdown",
   "id": "d15c5756",
   "metadata": {},
   "source": [
    "# Q 1.2. Write a Python program to implement your own myfilter() function which works exactlylike Python's built-in function filter()\n"
   ]
  },
  {
   "cell_type": "code",
   "execution_count": 2,
   "id": "f374b792",
   "metadata": {},
   "outputs": [],
   "source": [
    "import statistics\n",
    "data = [2,4,8,10,12,14]\n",
    "avg = statistics.mean(data)"
   ]
  },
  {
   "cell_type": "code",
   "execution_count": 17,
   "id": "47e0b1f7",
   "metadata": {},
   "outputs": [
    {
     "data": {
      "text/plain": [
       "8.333333333333334"
      ]
     },
     "execution_count": 17,
     "metadata": {},
     "output_type": "execute_result"
    }
   ],
   "source": [
    "avg"
   ]
  },
  {
   "cell_type": "code",
   "execution_count": 4,
   "id": "ab1a0a6a",
   "metadata": {},
   "outputs": [
    {
     "data": {
      "text/plain": [
       "[2, 4, 8, 10, 12, 14]"
      ]
     },
     "execution_count": 4,
     "metadata": {},
     "output_type": "execute_result"
    }
   ],
   "source": [
    "data"
   ]
  },
  {
   "cell_type": "code",
   "execution_count": 5,
   "id": "245e6b57",
   "metadata": {},
   "outputs": [
    {
     "data": {
      "text/plain": [
       "[10, 12, 14]"
      ]
     },
     "execution_count": 5,
     "metadata": {},
     "output_type": "execute_result"
    }
   ],
   "source": [
    "list(filter((lambda x: x > avg), data))"
   ]
  },
  {
   "cell_type": "code",
   "execution_count": 6,
   "id": "778086af",
   "metadata": {},
   "outputs": [
    {
     "data": {
      "text/plain": [
       "[2, 4, 8]"
      ]
     },
     "execution_count": 6,
     "metadata": {},
     "output_type": "execute_result"
    }
   ],
   "source": [
    "list(filter((lambda x: x < avg), data))"
   ]
  },
  {
   "cell_type": "markdown",
   "id": "a69801ab",
   "metadata": {},
   "source": [
    "# Q no 2. Implement List comprehensions to produce the following lists.Write List comprehensions to produce the following Lists\n"
   ]
  },
  {
   "cell_type": "code",
   "execution_count": 27,
   "id": "c1ed22d6",
   "metadata": {},
   "outputs": [
    {
     "name": "stdout",
     "output_type": "stream",
     "text": [
      "['x', 'xx', 'xxx', 'xxxx', 'y', 'yy', 'yyy', 'yyyy', 'z', 'zz', 'zzz', 'zzzz']\n"
     ]
    }
   ],
   "source": [
    "l1=['x','y','z']\n",
    "l2=[x*i for x in l1 for i in range(1,5)]\n",
    "print(l2)"
   ]
  },
  {
   "cell_type": "code",
   "execution_count": 28,
   "id": "d96b8d88",
   "metadata": {},
   "outputs": [
    {
     "name": "stdout",
     "output_type": "stream",
     "text": [
      "['x', 'y', 'z', 'xx', 'yy', 'zz', 'xxx', 'yyy', 'zzz', 'xxxx', 'yyyy', 'zzzz']\n"
     ]
    }
   ],
   "source": [
    "l1=['x','y','z']\n",
    "l2=[x*i for x in range(1,5) for i in l1 ]\n",
    "print(l2)"
   ]
  },
  {
   "cell_type": "code",
   "execution_count": 29,
   "id": "61c9c657",
   "metadata": {},
   "outputs": [
    {
     "name": "stdout",
     "output_type": "stream",
     "text": [
      "[[2], [3], [4], [3], [4], [5], [4], [5], [6]] [[2, 3, 4, 5], [3, 4, 5, 6], [4, 5, 6, 7], [5, 6, 7, 8]]\n"
     ]
    }
   ],
   "source": [
    "l1=[[x+i] for x in range(2,5) for i in range(0,3)]\n",
    "l3=[[(x+i) for x in range(2,6)]for i in range(0,4)]\n",
    "print(l1,l3)"
   ]
  },
  {
   "cell_type": "code",
   "execution_count": 30,
   "id": "a2b192a8",
   "metadata": {},
   "outputs": [
    {
     "name": "stdout",
     "output_type": "stream",
     "text": [
      "[(1, 1), (1, 2), (1, 3), (2, 1), (2, 2), (2, 3), (3, 1), (3, 2), (3, 3)]\n"
     ]
    }
   ],
   "source": [
    "l1=[1,2,3]\n",
    "l2=[1,2,3]\n",
    "l3=[(x,y) for x in l1 for y in l2]\n",
    "print(l3)"
   ]
  },
  {
   "cell_type": "code",
   "execution_count": null,
   "id": "e52d4afd",
   "metadata": {},
   "outputs": [],
   "source": []
  }
 ],
 "metadata": {
  "kernelspec": {
   "display_name": "Python 3",
   "language": "python",
   "name": "python3"
  },
  "language_info": {
   "codemirror_mode": {
    "name": "ipython",
    "version": 3
   },
   "file_extension": ".py",
   "mimetype": "text/x-python",
   "name": "python",
   "nbconvert_exporter": "python",
   "pygments_lexer": "ipython3",
   "version": "3.8.8"
  }
 },
 "nbformat": 4,
 "nbformat_minor": 5
}
